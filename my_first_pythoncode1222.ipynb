{
 "cells": [
  {
   "cell_type": "code",
   "execution_count": 3,
   "id": "ba4bd494-3b5e-4ac2-8443-dccc6ad0204d",
   "metadata": {},
   "outputs": [
    {
     "ename": "ModuleNotFoundError",
     "evalue": "No module named 'numpy'",
     "output_type": "error",
     "traceback": [
      "\u001b[0;31m---------------------------------------------------------------------------\u001b[0m",
      "\u001b[0;31mModuleNotFoundError\u001b[0m                       Traceback (most recent call last)",
      "Cell \u001b[0;32mIn[3], line 1\u001b[0m\n\u001b[0;32m----> 1\u001b[0m \u001b[38;5;28;01mimport\u001b[39;00m \u001b[38;5;21;01mnumpy\u001b[39;00m \u001b[38;5;28;01mas\u001b[39;00m \u001b[38;5;21;01mnp\u001b[39;00m\n\u001b[1;32m      2\u001b[0m \u001b[38;5;28mprint\u001b[39m(np\u001b[38;5;241m.\u001b[39m__version__)\n\u001b[1;32m      3\u001b[0m data\u001b[38;5;241m=\u001b[39m[\u001b[38;5;241m2\u001b[39m,\u001b[38;5;241m68\u001b[39m,\u001b[38;5;241m7.2\u001b[39m,\u001b[38;5;241m1\u001b[39m]\n",
      "\u001b[0;31mModuleNotFoundError\u001b[0m: No module named 'numpy'"
     ]
    }
   ],
   "source": [
    "import numpy as np\n",
    "print(np.__version__)\n",
    "data=[2,68,7.2,1]"
   ]
  },
  {
   "cell_type": "code",
   "execution_count": null,
   "id": "f2fd749a-5a7d-45c9-ba85-d7676293e417",
   "metadata": {},
   "outputs": [],
   "source": [
    "arrl=np.array(data)"
   ]
  },
  {
   "cell_type": "code",
   "execution_count": null,
   "id": "7fe30551-0289-4c28-a569-108e1fb66c4c",
   "metadata": {},
   "outputs": [],
   "source": [
    "print(arrl)"
   ]
  },
  {
   "cell_type": "code",
   "execution_count": null,
   "id": "aefa21a6-1162-4b92-b67e-86e6eef330a6",
   "metadata": {},
   "outputs": [],
   "source": [
    "print(type(arrl))"
   ]
  },
  {
   "cell_type": "code",
   "execution_count": null,
   "id": "eb03b320-b0d4-4938-ad39-945080174886",
   "metadata": {},
   "outputs": [],
   "source": [
    "my_array2=np.arange(1,10)"
   ]
  },
  {
   "cell_type": "code",
   "execution_count": null,
   "id": "6b6dcd49-99cb-4395-8732-f757d6b8d64c",
   "metadata": {},
   "outputs": [],
   "source": [
    "my_array2.ndim"
   ]
  },
  {
   "cell_type": "code",
   "execution_count": null,
   "id": "3744c135-f160-4263-9eee-b511ad5f2155",
   "metadata": {},
   "outputs": [],
   "source": [
    "my_array2.shape"
   ]
  },
  {
   "cell_type": "code",
   "execution_count": null,
   "id": "ef74bf1a-dd72-4b7a-8931-092960c42c90",
   "metadata": {},
   "outputs": [],
   "source": [
    "help(np.shape)"
   ]
  },
  {
   "cell_type": "code",
   "execution_count": null,
   "id": "443a8433-0c4f-42c1-8f98-7993ea24b6d9",
   "metadata": {},
   "outputs": [],
   "source": [
    "my_array2"
   ]
  },
  {
   "cell_type": "code",
   "execution_count": null,
   "id": "4eee2bf7-8062-4ccb-ac77-745a11c163c8",
   "metadata": {},
   "outputs": [],
   "source": [
    "my_array2=my_array2.reshape(3,3)"
   ]
  },
  {
   "cell_type": "code",
   "execution_count": null,
   "id": "d751e9c6-4e41-449d-8285-118d93cd6b7d",
   "metadata": {},
   "outputs": [],
   "source": [
    "my_array2"
   ]
  },
  {
   "cell_type": "code",
   "execution_count": null,
   "id": "c3968b43-c3a1-4bd7-ae97-e7c0b1128afe",
   "metadata": {},
   "outputs": [],
   "source": [
    "my_arr1=np.arange(30)\n",
    "my_arr1=my_arr1.reshape(2,3,5)"
   ]
  },
  {
   "cell_type": "code",
   "execution_count": null,
   "id": "ec281152-f6d1-4915-b876-f75adfe77281",
   "metadata": {},
   "outputs": [],
   "source": [
    "my_arr1"
   ]
  },
  {
   "cell_type": "code",
   "execution_count": null,
   "id": "0663d1c6-b29a-4e46-8c80-04b0173cea17",
   "metadata": {},
   "outputs": [],
   "source": [
    "my_arr1+my_array2"
   ]
  },
  {
   "cell_type": "code",
   "execution_count": null,
   "id": "c1d3e8b7-e979-42b1-9696-54927ff59add",
   "metadata": {},
   "outputs": [],
   "source": []
  }
 ],
 "metadata": {
  "kernelspec": {
   "display_name": "Python 3 (ipykernel)",
   "language": "python",
   "name": "python3"
  },
  "language_info": {
   "codemirror_mode": {
    "name": "ipython",
    "version": 3
   },
   "file_extension": ".py",
   "mimetype": "text/x-python",
   "name": "python",
   "nbconvert_exporter": "python",
   "pygments_lexer": "ipython3",
   "version": "3.11.5"
  }
 },
 "nbformat": 4,
 "nbformat_minor": 5
}
